{
 "cells": [
  {
   "cell_type": "markdown",
   "metadata": {},
   "source": [
    "# VAE with disentanglement\n",
    "Authors : Hamza Boukraichi and Loic Cordone"
   ]
  },
  {
   "cell_type": "code",
   "execution_count": 1,
   "metadata": {},
   "outputs": [],
   "source": [
    "from __future__ import print_function\n",
    "\n",
    "%config IPCompleter.greedy=True\n",
    "\n",
    "import argparse\n",
    "import torch\n",
    "import torch.utils.data\n",
    "from torch import nn, optim\n",
    "from torch.nn import functional as F\n",
    "from torchvision import datasets, transforms\n",
    "from torchvision.utils import save_image\n",
    "import matplotlib.pyplot as plt\n",
    "\n",
    "batchsize = 128\n",
    "epochs=10\n",
    "loginterval=10\n",
    "cuda = torch.cuda.is_available()\n",
    "\n",
    "SEED = 1\n",
    "torch.manual_seed(SEED)\n",
    "\n",
    "device = torch.device(\"cuda\" if cuda else \"cpu\")\n",
    "\n",
    "kwargs = {'num_workers': 4, 'pin_memory': True} if cuda else {}\n",
    "train_loader = torch.utils.data.DataLoader(\n",
    "    datasets.MNIST('../data', train=True, download=True,\n",
    "                   transform=transforms.ToTensor()),\n",
    "    batch_size=batchsize, shuffle=True, **kwargs)\n",
    "test_loader = torch.utils.data.DataLoader(\n",
    "    datasets.MNIST('../data', train=False, transform=transforms.ToTensor()),\n",
    "    batch_size=batchsize, shuffle=True, **kwargs)"
   ]
  },
  {
   "cell_type": "markdown",
   "metadata": {},
   "source": [
    "# Model"
   ]
  },
  {
   "cell_type": "code",
   "execution_count": 2,
   "metadata": {},
   "outputs": [],
   "source": [
    "class VAE(nn.Module):\n",
    "    def __init__(self):\n",
    "        super(VAE, self).__init__()\n",
    "\n",
    "        # create using nn.Sequential()\n",
    "        # decoder :FC (20 -> 400), RELU activation; FC (400, 784)\n",
    "        self.decoder = nn.Sequential(nn.Linear(20, 400), nn.ReLU(), nn.Linear(400, 784))\n",
    "        # and without using nn.Sequential, an encoder\n",
    "        #FC (784 -> 400), RELU activation\n",
    "        # then in parallel a FC (400, 20) for each mu / logvar\n",
    "        self.encoder = nn.Linear(784,400)\n",
    "        self.relu = nn.ReLU()\n",
    "        self.fc1 = nn.Linear(400,20)\n",
    "        self.fc2 = nn.Linear(400,20)\n",
    "\n",
    "    def encode(self, x):\n",
    "        x_relu = self.relu(self.encoder(x))\n",
    "        mu = self.fc1(x_relu)\n",
    "        logvar = self.fc2(x_relu)\n",
    "        return mu, logvar\n",
    "\n",
    "    def reparameterize(self, mu, logvar):\n",
    "        # sample\n",
    "        std = torch.exp(0.5*logvar)\n",
    "        eps = torch.randn_like(std)\n",
    "        \n",
    "        return eps.mul(std).add_(mu)\n",
    "\n",
    "    def decode(self, z):\n",
    "        return torch.sigmoid(self.decoder(z))\n",
    "\n",
    "    def forward(self, x):\n",
    "        mu, logvar = self.encode(x.view(-1, 784))\n",
    "        z = self.reparameterize(mu, logvar)\n",
    "        return self.decode(z), mu, logvar\n",
    "\n",
    "model = VAE().to(device)\n",
    "optimizer = optim.Adam(model.parameters(), lr=1e-3)"
   ]
  },
  {
   "cell_type": "markdown",
   "metadata": {},
   "source": [
    "# Loss Function"
   ]
  },
  {
   "cell_type": "code",
   "execution_count": 3,
   "metadata": {},
   "outputs": [],
   "source": [
    "def loss_function(recon_batch, x, mu, logvar, beta):\n",
    "    # compute binary cross entropy summed across the batch\n",
    "    # bce = ...\n",
    "    loss = nn.BCELoss(reduction='sum')\n",
    "    bce = loss(recon_batch, x)\n",
    "    #   Kullback-Leibler divergence losses summed over all elements and batch\n",
    "    # kld = ...\n",
    "    kld = - 0.5 * torch.sum(1 + logvar - mu.pow(2) - logvar.exp())\n",
    "    # the beta factor allows disentanglement for values >>1\n",
    "    return bce+kld*beta"
   ]
  },
  {
   "cell_type": "markdown",
   "metadata": {},
   "source": [
    "# Train"
   ]
  },
  {
   "cell_type": "code",
   "execution_count": 8,
   "metadata": {},
   "outputs": [],
   "source": [
    "losses = []\n",
    "def train(epoch, beta):\n",
    "    model.train()\n",
    "    train_loss = 0\n",
    "    for batch_idx, (data, _) in enumerate(train_loader):\n",
    "        data = data.to(device)\n",
    "        optimizer.zero_grad()\n",
    "        recon_batch, mu, logvar = model(data)\n",
    "        loss = loss_function(recon_batch, data.view(-1, 784), mu, logvar, beta)\n",
    "        losses.append(loss)\n",
    "        loss.backward()\n",
    "        train_loss += loss.item()\n",
    "        optimizer.step()\n",
    "        if batch_idx % loginterval == 0:\n",
    "            print('\\r Train Epoch: {} [{}/{} ({:.0f}%)]\\tLoss: {:.1f}'.format(\n",
    "                epoch, batch_idx * len(data), len(train_loader.dataset),\n",
    "                100. * batch_idx / len(train_loader),\n",
    "                loss.item() / len(data)), end='')\n",
    "\n",
    "    print(' Average loss: {:.1f}'.format(\n",
    "         train_loss / len(train_loader.dataset)), end='')"
   ]
  },
  {
   "cell_type": "markdown",
   "metadata": {},
   "source": [
    "# Test "
   ]
  },
  {
   "cell_type": "code",
   "execution_count": 9,
   "metadata": {},
   "outputs": [],
   "source": [
    "def test(epoch, beta):\n",
    "    model.eval()\n",
    "    test_loss = 0\n",
    "    with torch.no_grad():\n",
    "        for i, (data, _) in enumerate(test_loader):\n",
    "            data = data.to(device)\n",
    "            recon_batch, mu, logvar = model(data)\n",
    "            test_loss += loss_function(recon_batch, data.view(-1, 784), mu, logvar,beta)\n",
    "\n",
    "            if i == 0:\n",
    "                n = min(data.size(0), 8)\n",
    "                comparison = torch.cat([data[:n],\n",
    "                                      recon_batch.view(batchsize, 1, 28, 28)[:n]])\n",
    "                save_image(comparison.cpu(),\n",
    "                         'results/reconstruction_' + str(epoch) + '.png', nrow=n)\n",
    "\n",
    "    test_loss /= len(test_loader.dataset)\n",
    "    print(' Test loss: {:.1f}'.format(test_loss))"
   ]
  },
  {
   "cell_type": "markdown",
   "metadata": {},
   "source": [
    "# Experiments on different values of Beta"
   ]
  },
  {
   "cell_type": "code",
   "execution_count": 10,
   "metadata": {
    "scrolled": false
   },
   "outputs": [
    {
     "name": "stdout",
     "output_type": "stream",
     "text": [
      " Train Epoch: 1 [58880/60000 (98%)]\tLoss: 185.2 Average loss: 184.9 Test loss: 184.2\n",
      " Train Epoch: 2 [58880/60000 (98%)]\tLoss: 180.9 Average loss: 184.6 Test loss: 184.0\n",
      " Train Epoch: 3 [58880/60000 (98%)]\tLoss: 184.7 Average loss: 184.4 Test loss: 183.8\n",
      " Train Epoch: 4 [58880/60000 (98%)]\tLoss: 179.3 Average loss: 184.1 Test loss: 183.1\n",
      " Train Epoch: 5 [58880/60000 (98%)]\tLoss: 178.7 Average loss: 183.9 Test loss: 183.3\n",
      " Train Epoch: 6 [58880/60000 (98%)]\tLoss: 179.5 Average loss: 183.8 Test loss: 183.3\n",
      " Train Epoch: 7 [58880/60000 (98%)]\tLoss: 188.0 Average loss: 183.6 Test loss: 183.3\n",
      " Train Epoch: 8 [58880/60000 (98%)]\tLoss: 183.3 Average loss: 183.6 Test loss: 183.1\n",
      " Train Epoch: 9 [58880/60000 (98%)]\tLoss: 181.4 Average loss: 183.3 Test loss: 183.0\n",
      " Train Epoch: 10 [58880/60000 (98%)]\tLoss: 185.3 Average loss: 183.3 Test loss: 182.8\n"
     ]
    }
   ],
   "source": [
    "beta = 10\n",
    "for epoch in range(1, epochs + 1):\n",
    "    train(epoch, beta)\n",
    "    test(epoch, beta)\n",
    "    with torch.no_grad():\n",
    "         sample = torch.randn(64, 20).to(device)\n",
    "         sample = model.decode(sample).cpu()\n",
    "         save_image(sample.view(64, 1, 28, 28), 'results/sample_' + str(epoch) + '.png')    "
   ]
  },
  {
   "cell_type": "code",
   "execution_count": 11,
   "metadata": {
    "scrolled": true
   },
   "outputs": [
    {
     "data": {
      "text/plain": [
       "[<matplotlib.lines.Line2D at 0x1cc9779c748>]"
      ]
     },
     "execution_count": 11,
     "metadata": {},
     "output_type": "execute_result"
    },
    {
     "data": {
      "image/png": "[encoded data removed]",
      "text/plain": [
       "<Figure size 432x288 with 1 Axes>"
      ]
     },
     "metadata": {
      "needs_background": "light"
     },
     "output_type": "display_data"
    }
   ],
   "source": [
    "# plot losses\n",
    "plt.plot(losses)"
   ]
  },
  {
   "cell_type": "code",
   "execution_count": 12,
   "metadata": {},
   "outputs": [
    {
     "ename": "NameError",
     "evalue": "name 'gradients' is not defined",
     "output_type": "error",
     "traceback": [
      "\u001b[1;31m---------------------------------------------------------------------------\u001b[0m",
      "\u001b[1;31mNameError\u001b[0m                                 Traceback (most recent call last)",
      "\u001b[1;32m<ipython-input-12-c0479cf69731>\u001b[0m in \u001b[0;36m<module>\u001b[1;34m\u001b[0m\n\u001b[0;32m      1\u001b[0m \u001b[1;31m#plot the gradient mean value for each FC layer across training\u001b[0m\u001b[1;33m\u001b[0m\u001b[1;33m\u001b[0m\u001b[1;33m\u001b[0m\u001b[0m\n\u001b[1;32m----> 2\u001b[1;33m \u001b[0mplt\u001b[0m\u001b[1;33m.\u001b[0m\u001b[0mplot\u001b[0m\u001b[1;33m(\u001b[0m\u001b[0mgradients\u001b[0m\u001b[1;33m)\u001b[0m\u001b[1;33m\u001b[0m\u001b[1;33m\u001b[0m\u001b[0m\n\u001b[0m",
      "\u001b[1;31mNameError\u001b[0m: name 'gradients' is not defined"
     ]
    }
   ],
   "source": [
    "#plot the gradient mean value for each FC layer across training\n",
    "plt.plot(gradients)"
   ]
  },
  {
   "cell_type": "code",
   "execution_count": null,
   "metadata": {},
   "outputs": [],
   "source": []
  }
 ],
 "metadata": {
  "kernelspec": {
   "display_name": "Python 3",
   "language": "python",
   "name": "python3"
  },
  "language_info": {
   "codemirror_mode": {
    "name": "ipython",
    "version": 3
   },
   "file_extension": ".py",
   "mimetype": "text/x-python",
   "name": "python",
   "nbconvert_exporter": "python",
   "pygments_lexer": "ipython3",
   "version": "3.6.7"
  }
 },
 "nbformat": 4,
 "nbformat_minor": 2
}
